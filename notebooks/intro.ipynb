{
 "cells": [
  {
   "cell_type": "code",
   "execution_count": null,
   "metadata": {},
   "outputs": [],
   "source": [
    "'''\n",
    "This first cell pulls the project-specific secrets from your dotenv file (`.env`)\n",
    "and sets them as environment variables.\n",
    "\n",
    "This includes setting the Cornell AI API Gateway key and Base URL \n",
    "to OPENAI_API_KEY and OPENAI_BASE_URL respectively.\n",
    "\n",
    "The Cornell AI API Gateway is OpenAI SDK Compatible, \n",
    "this allows us to use familiar tools (langchain, llama-index, openai sdk, etc.) \n",
    "to access Anthropic Claude, and other models approved for use by Cornell AI.\n",
    "'''\n",
    "\n",
    "from dotenv import load_dotenv\n",
    "\n",
    "load_dotenv()\n",
    "\n",
    "from openai import OpenAI\n",
    "\n",
    "openai = OpenAI()\n",
    "\n",
    "claude_response = openai.chat.completions.create(\n",
    "    model='anthropic.claude-3.5-sonnet.v2',\n",
    "    messages=[\n",
    "        {'role': 'system', 'content': 'You are a helpful assistant.'},\n",
    "        {'role': 'user', 'content': 'What is the purpose of life?'},\n",
    "    ],\n",
    ").choices[0].message.content\n",
    "\n",
    "print(f'Claude:\\n\\n{claude_response}\\n\\n')"
   ]
  },
  {
   "cell_type": "code",
   "execution_count": 2,
   "metadata": {},
   "outputs": [],
   "source": [
    "'''\n",
    "Connecting to Neo4j\n",
    "\n",
    "Neo4j is a graph database that allows us to store and query data in a graph format.\n",
    "This can be useful for storing data that has relationships between entities, such as social networks,\n",
    "recommendation systems, and knowledge graphs.\n",
    "'''\n",
    "\n",
    "from neo4j import GraphDatabase\n",
    "\n",
    "uri = 'neo4j://neo4j:7687' # name of the neo4j container is the hostname\n",
    "auth = ('neo4j', 'secretpassword')\n",
    "\n",
    "with GraphDatabase.driver(uri, auth=auth) as driver:\n",
    "    driver.verify_authentication()\n",
    "    driver.verify_connectivity()\n"
   ]
  }
 ],
 "metadata": {
  "kernelspec": {
   "display_name": "Python 3",
   "language": "python",
   "name": "python3"
  },
  "language_info": {
   "codemirror_mode": {
    "name": "ipython",
    "version": 3
   },
   "file_extension": ".py",
   "mimetype": "text/x-python",
   "name": "python",
   "nbconvert_exporter": "python",
   "pygments_lexer": "ipython3",
   "version": "3.12.8"
  }
 },
 "nbformat": 4,
 "nbformat_minor": 2
}
